{
 "cells": [
  {
   "cell_type": "code",
   "execution_count": 17,
   "id": "78d59aee-19ad-40af-98e4-3935c01fe1dc",
   "metadata": {},
   "outputs": [],
   "source": [
    "from pyspark.sql import SparkSession\n",
    "from pyspark.sql.functions import count, collect_list, mean, stddev\n",
    "\n",
    "# Configurar SparkSession\n",
    "spark = SparkSession.builder.appName(\"Desviacion\").getOrCreate()\n",
    "\n",
    "# Datos de prueba\n",
    "conjunto_datos = [\n",
    "    (\"presente\", \"Big Data\", \"Alumno1\"),\n",
    "    (\"tarde\", \"Administracion de Sistemas\", \"Alumno2\"),\n",
    "    (\"ausente\", \"Big Data\", \"Alumno2\"),\n",
    "    (\"presente\", \"Empresa y Legislacion\", \"Alumno4\"),\n",
    "    (\"ausente\", \"Ingenieria del Software\", \"Alumno5\"),\n",
    "    (\"tarde\", \"Ingenieria del Software\", \"Alumno33\"),\n",
    "]\n",
    "columnas = [\"estado_asistencia\", \"asignatura\", \"alumno\"]\n",
    "df = spark.createDataFrame(conjunto_datos, columnas)"
   ]
  },
  {
   "cell_type": "markdown",
   "id": "2ca8bac6-389e-48d0-a7be-a377ac2d6232",
   "metadata": {},
   "source": [
    "## PRUEBA 1"
   ]
  },
  {
   "cell_type": "code",
   "execution_count": 32,
   "id": "7a4cc29b-c533-4828-96df-8829800c289d",
   "metadata": {},
   "outputs": [],
   "source": [
    "# Test: Número de alumnos por estado de asistencia\n",
    "def test_totales_por_estado():\n",
    "    # NÚMERO ALUMNOS POR ESTADO DE ASISTENCIA CÓDIGO DE IVÁN\n",
    "    totales_por_estado = df.groupBy(\"estado_asistencia\").agg(count(\"alumno\").alias(\"total\"))\n",
    "    resultado = totales_por_estado.collect()\n",
    "\n",
    "    # CÓMO LO ESTAMOS HACIENDO CON UN CONJUNTO DE DATOS DIFERENTE DE PRUEBA MARCAMOS LOS VALORES ESPERADOS QUE HEMOS INTRODUCIDO NOSOTROS MANUALMENTE\n",
    "    esperado = {\"presente\": 2, \"tarde\": 2, \"ausente\": 2}\n",
    "\n",
    "    # VERIFICAMOS QUE COINCIDA. ASSERT INDICARA ERROR SI ALGO NO COINCIDE\n",
    "    for row in resultado:\n",
    "        assert row[\"total\"] == esperado[row[\"estado_asistencia\"]], f\"Error en estado: {row['estado_asistencia']}\""
   ]
  },
  {
   "cell_type": "code",
   "execution_count": 33,
   "id": "a8ecb43e-42f4-416e-9c4f-95229b81e09b",
   "metadata": {},
   "outputs": [
    {
     "name": "stdout",
     "output_type": "stream",
     "text": [
      "test_totales_por_estado pasó correctamente.\n"
     ]
    }
   ],
   "source": [
    "# EJECUTAMOS PRUEBA\n",
    "test_totales_por_estado()\n",
    "print(\"test_totales_por_estado pasó correctamente.\")"
   ]
  },
  {
   "cell_type": "markdown",
   "id": "8377c081-c45b-4401-ba5d-bd4a4f8fe875",
   "metadata": {},
   "source": [
    "## Prueba 2"
   ]
  },
  {
   "cell_type": "code",
   "execution_count": 36,
   "id": "6ed8c597-7ed9-4400-a2c3-4f06d530ef71",
   "metadata": {},
   "outputs": [],
   "source": [
    "def test_lista_por_asistencia():\n",
    "    # LISTA DE ALUMNOS CLASIFICADOS POR ASISTENCIA CÓDIGO DE IVÁN\n",
    "    lista_por_asistencia = df.groupBy(\"estado_asistencia\").agg(collect_list(\"alumno\").alias(\"lista_alumnos\"))\n",
    "    resultado = lista_por_asistencia.collect()\n",
    "\n",
    "    # VOLVEMOS A MARCAR LO ESPERADO\n",
    "    esperado = {\n",
    "        \"presente\": [\"Alumno1\", \"Alumno4\"],\n",
    "        \"tarde\": [\"Alumno2\", \"Alumno33\"],\n",
    "        \"ausente\": [\"Alumno2\", \"Alumno5\"]\n",
    "    }\n",
    "\n",
    "    # COMPARAMOS\n",
    "    for row in resultado:\n",
    "        estado = row[\"estado_asistencia\"]\n",
    "        lista_actual = row[\"lista_alumnos\"]\n",
    "        lista_esperada = esperado[estado]\n",
    "        \n",
    "        assert set(lista_actual) == set(lista_esperada), f\"Error en estado: {estado}\""
   ]
  },
  {
   "cell_type": "code",
   "execution_count": 37,
   "id": "dc06df0e-9c51-4112-b194-60a75fe7ec70",
   "metadata": {},
   "outputs": [
    {
     "name": "stdout",
     "output_type": "stream",
     "text": [
      "test_lista_por_asistencia pasó correctamente.\n"
     ]
    }
   ],
   "source": [
    "test_lista_por_asistencia()\n",
    "print(\"test_lista_por_asistencia pasó correctamente.\")"
   ]
  },
  {
   "cell_type": "markdown",
   "id": "ac1211da-6b3c-4b36-b16f-e29803158ad7",
   "metadata": {},
   "source": [
    "## Prueba 3"
   ]
  },
  {
   "cell_type": "code",
   "execution_count": 24,
   "id": "5cc2aed7-186d-4a8b-a828-d2d154d06c0b",
   "metadata": {},
   "outputs": [],
   "source": [
    "# Hacemos una comprobación manual de que los datos son correctos. \n",
    "def test_media_desviacion():\n",
    "    # TOTALES POR ASIGNATURA Y ESTADO DE ASISTENCIA\n",
    "    totales = {}\n",
    "    for row in df.collect():\n",
    "        asignatura = row[\"asignatura\"]\n",
    "        totales[asignatura] = totales.get(asignatura, []) + [row[\"estado_asistencia\"]]\n",
    "\n",
    "    # TOTALES POR ASIGNATURA PARA CADA ESTADO\n",
    "    alumnos_asignatura_estado = []\n",
    "    for asignatura, estados in totales.items():\n",
    "        for estado in set(estados):\n",
    "            total = estados.count(estado)\n",
    "            alumnos_asignatura_estado.append({\"asignatura\": asignatura, \"estado_asistencia\": estado, \"total\": total})\n",
    "\n",
    "    # Calculamos la desviación\n",
    "        # (Xi - media de x) al cuadrado. Por cada valor de totales se resta la media y luego elevamos al cuadrado [90 - 83.67] [85 - 83.67] [76 - 83.67]\n",
    "        # Lo elevamos al cuadrado\n",
    "        # Sumamos los cuadrados\n",
    "        # Dividimos entre la cantidad de valores [len(totales)]\n",
    "        # Hacemos la raiz cuadrada\n",
    "    resultados = {}\n",
    "    for asignatura in totales.keys():\n",
    "        totales_por_estado = [entry[\"total\"] for entry in alumnos_asignatura_estado if entry[\"asignatura\"] == asignatura]\n",
    "        media = sum(totales_por_estado) / len(totales_por_estado)\n",
    "        varianza = sum((x - media) ** 2 for x in totales_por_estado) / len(totales_por_estado)\n",
    "        desviacion = varianza ** 0.5 if len(totales_por_estado) > 1 else None\n",
    "        resultados[asignatura] = {\"media\": media, \"desviación\": desviacion}\n",
    "\n",
    "    # Definir los valores esperados\n",
    "    esperado_media = {\n",
    "        \"Big Data\": 1.0,\n",
    "        \"Administracion de Sistemas\": 1.0,\n",
    "        \"Empresa y Legislacion\": 1.0,\n",
    "        \"Ingenieria del Software\": 1.0\n",
    "    }\n",
    "    esperado_desviacion = {\n",
    "        \"Big Data\": 0.0,\n",
    "        \"Administracion de Sistemas\": None,\n",
    "        \"Empresa y Legislacion\": None,\n",
    "        \"Ingenieria del Software\": 0.0\n",
    "    }\n",
    "\n",
    "    # VALIDAMOS\n",
    "    for asignatura, valores in resultados.items():\n",
    "        assert round(valores[\"media\"], 1) == esperado_media[asignatura], f\"Error en media de {asignatura}\"\n",
    "        if esperado_desviacion[asignatura] is None:\n",
    "            assert valores[\"desviación\"] is None, f\"Error en desviación de {asignatura}\"\n",
    "        else:\n",
    "            assert round(valores[\"desviación\"], 1) == esperado_desviacion[asignatura], f\"Error en desviación de {asignatura}\""
   ]
  },
  {
   "cell_type": "code",
   "execution_count": 25,
   "id": "0c5c87d2-c471-4561-93f5-eedb711aca1b",
   "metadata": {},
   "outputs": [
    {
     "name": "stdout",
     "output_type": "stream",
     "text": [
      "test_media_desviacion pasó correctamente.\n"
     ]
    }
   ],
   "source": [
    "test_media_desviacion()\n",
    "print(\"test_media_desviacion pasó correctamente.\")"
   ]
  },
  {
   "cell_type": "code",
   "execution_count": null,
   "id": "bf54c895-f4b1-43bf-9d29-53b29ce24c0d",
   "metadata": {},
   "outputs": [],
   "source": []
  }
 ],
 "metadata": {
  "kernelspec": {
   "display_name": "Python 3 (ipykernel)",
   "language": "python",
   "name": "python3"
  },
  "language_info": {
   "codemirror_mode": {
    "name": "ipython",
    "version": 3
   },
   "file_extension": ".py",
   "mimetype": "text/x-python",
   "name": "python",
   "nbconvert_exporter": "python",
   "pygments_lexer": "ipython3",
   "version": "3.10.13"
  }
 },
 "nbformat": 4,
 "nbformat_minor": 5
}
