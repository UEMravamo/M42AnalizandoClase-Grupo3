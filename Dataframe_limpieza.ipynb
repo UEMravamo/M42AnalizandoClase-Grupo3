{
 "cells": [
  {
   "cell_type": "code",
   "execution_count": 11,
   "id": "c11af0f6-4cf3-4d57-80b4-b8d65f5a8093",
   "metadata": {},
   "outputs": [
    {
     "name": "stdout",
     "output_type": "stream",
     "text": [
      "Requirement already satisfied: pyshark in c:\\users\\antonio\\appdata\\local\\programs\\python\\python313\\lib\\site-packages (0.6)\n",
      "Requirement already satisfied: lxml in c:\\users\\antonio\\appdata\\local\\programs\\python\\python313\\lib\\site-packages (from pyshark) (5.3.0)\n",
      "Requirement already satisfied: termcolor in c:\\users\\antonio\\appdata\\local\\programs\\python\\python313\\lib\\site-packages (from pyshark) (2.5.0)\n",
      "Requirement already satisfied: packaging in c:\\users\\antonio\\appdata\\local\\programs\\python\\python313\\lib\\site-packages (from pyshark) (24.2)\n",
      "Requirement already satisfied: appdirs in c:\\users\\antonio\\appdata\\local\\programs\\python\\python313\\lib\\site-packages (from pyshark) (1.4.4)\n"
     ]
    }
   ],
   "source": [
    "!pip install pyshark"
   ]
  },
  {
   "cell_type": "code",
   "execution_count": 1,
   "id": "e9affdca-9beb-4b52-b6dc-57aa67a38e40",
   "metadata": {},
   "outputs": [],
   "source": [
    "from pyspark.sql import SparkSession\n",
    "from pyspark.sql import Row\n",
    "from pyspark.sql.types import StructType, StructField, StringType, TimestampType\n",
    "from datetime import datetime"
   ]
  },
  {
   "cell_type": "code",
   "execution_count": 2,
   "id": "8dc3deac-9957-457f-8e9f-4d7789dd3ad4",
   "metadata": {},
   "outputs": [],
   "source": [
    "spark = SparkSession.builder.appName(\"PreparacionDatosAsistencia\").getOrCreate()"
   ]
  },
  {
   "cell_type": "code",
   "execution_count": 3,
   "id": "43aa26d5-e406-48cd-a988-8c0f90e77644",
   "metadata": {},
   "outputs": [],
   "source": [
    "# Función de mostrar la asistencia ademas de limpieza de datos NULL\n",
    "def mostrar_asistencia(csv_asistencia, csv_nulos, csv_filtrado):\n",
    "\n",
    "    df = spark.read.csv(csv_asistencia, header=True, inferSchema=False) # Leer el archivo CSV\n",
    "     \n",
    "    df_nulos = df.filter(\" OR \".join([f\"{col} IS NULL\" for col in df.columns])) # Filtrar los valores NULL\n",
    "    df_nulos = df_nulos.orderBy(\"timestamp\", \"asignatura\", \"estado_asistencia\") # Ordenacion de los valores por timestamp, asignatura, estado_asistencia\n",
    "    df_nulos.write.csv(csv_nulos, header=True, mode=\"overwrite\") # Guardar las filas con valores NULL en un archivo CSV aparte\n",
    "\n",
    "    df_filtrado = df.dropna() # Eliminar los valores nulos y guardarlos en un nuevo dataframe\n",
    "    df_filtrado = df_filtrado.orderBy(\"timestamp\", \"asignatura\", \"estado_asistencia\") # Ordenacion de los valores por timestamp, asignatura, estado_asistencia\n",
    "    df_filtrado.write.csv(csv_filtrado, header=True, mode=\"overwrite\") # Guardar el dataframe filtrado en un CSV aparte\n",
    "    \n",
    "    df_filtrado.show() # Mostrar la estructura del DataFrame\n",
    "    return df_filtrado # Retornar el DataFrame"
   ]
  },
  {
   "cell_type": "code",
   "execution_count": 4,
   "id": "cb1e3322-ded7-4dc5-b535-d134f9e76349",
   "metadata": {},
   "outputs": [
    {
     "name": "stdout",
     "output_type": "stream",
     "text": [
      "+-------------------+--------------------+-----------------+--------+\n",
      "|          timestamp|          asignatura|estado_asistencia|  alumno|\n",
      "+-------------------+--------------------+-----------------+--------+\n",
      "|2024-01-08 09:00:00|Empresa y Legisla...|          ausente|Alumno22|\n",
      "|2024-01-08 09:00:00|Empresa y Legisla...|          ausente|Alumno44|\n",
      "|2024-01-08 09:00:00|Empresa y Legisla...|          ausente|Alumno23|\n",
      "|2024-01-08 09:00:00|Empresa y Legisla...|          ausente| Alumno3|\n",
      "|2024-01-08 09:00:00|Empresa y Legisla...|          ausente|Alumno24|\n",
      "|2024-01-08 09:00:00|Empresa y Legisla...|          ausente| Alumno4|\n",
      "|2024-01-08 09:00:00|Empresa y Legisla...|          ausente|Alumno25|\n",
      "|2024-01-08 09:00:00|Empresa y Legisla...|          ausente| Alumno6|\n",
      "|2024-01-08 09:00:00|Empresa y Legisla...|          ausente|Alumno26|\n",
      "|2024-01-08 09:00:00|Empresa y Legisla...|          ausente| Alumno8|\n",
      "|2024-01-08 09:00:00|Empresa y Legisla...|          ausente|Alumno27|\n",
      "|2024-01-08 09:00:00|Empresa y Legisla...|          ausente|Alumno10|\n",
      "|2024-01-08 09:00:00|Empresa y Legisla...|          ausente|Alumno28|\n",
      "|2024-01-08 09:00:00|Empresa y Legisla...|          ausente|Alumno12|\n",
      "|2024-01-08 09:00:00|Empresa y Legisla...|          ausente|Alumno30|\n",
      "|2024-01-08 09:00:00|Empresa y Legisla...|          ausente|Alumno14|\n",
      "|2024-01-08 09:00:00|Empresa y Legisla...|          ausente|Alumno15|\n",
      "|2024-01-08 09:00:00|Empresa y Legisla...|          ausente|Alumno16|\n",
      "|2024-01-08 09:00:00|Empresa y Legisla...|          ausente|Alumno19|\n",
      "|2024-01-08 09:00:00|Empresa y Legisla...|          ausente|Alumno32|\n",
      "+-------------------+--------------------+-----------------+--------+\n",
      "only showing top 20 rows\n",
      "\n"
     ]
    }
   ],
   "source": [
    "ruta_asistencia = \"././asistencia2500.csv\" # Ruta del archivo CSV\n",
    "ruta_nulos = \"././nulos.csv\"  # Ruta de los nulos\n",
    "ruta_filtrado = \"././filtrado.csv\" # Ruta filtrado\n",
    "registro_asistencia = mostrar_asistencia(ruta_asistencia, ruta_nulos, ruta_filtrado) # Llamada a la funcion"
   ]
  },
  {
   "cell_type": "code",
   "execution_count": null,
   "id": "0e0817a1-b6eb-4103-bc95-2c0032a78ed0",
   "metadata": {},
   "outputs": [],
   "source": []
  }
 ],
 "metadata": {
  "kernelspec": {
   "display_name": "Python 3",
   "language": "python",
   "name": "python3"
  },
  "language_info": {
   "codemirror_mode": {
    "name": "ipython",
    "version": 3
   },
   "file_extension": ".py",
   "mimetype": "text/x-python",
   "name": "python",
   "nbconvert_exporter": "python",
   "pygments_lexer": "ipython3",
   "version": "3.13.0"
  }
 },
 "nbformat": 4,
 "nbformat_minor": 5
}
