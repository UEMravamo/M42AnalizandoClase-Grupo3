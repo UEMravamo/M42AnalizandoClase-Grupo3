{
 "cells": [
  {
   "cell_type": "code",
   "execution_count": 13,
   "id": "ff2ade57-90de-4487-9a37-d6102d7f7f83",
   "metadata": {},
   "outputs": [],
   "source": [
    "from pyspark.sql import SparkSession\n",
    "import os"
   ]
  },
  {
   "cell_type": "code",
   "execution_count": 14,
   "id": "285a0e22-aeea-4665-a3f0-2ec5a86d5086",
   "metadata": {},
   "outputs": [
    {
     "name": "stdout",
     "output_type": "stream",
     "text": [
      "<pyspark.sql.session.SparkSession object at 0x108427610>\n"
     ]
    }
   ],
   "source": [
    "spark = SparkSession.builder.appName(\"Test\").getOrCreate()\n",
    "print(spark)"
   ]
  },
  {
   "cell_type": "code",
   "execution_count": 3,
   "id": "cf137e54-b2f1-4889-84bc-ce3fba525c96",
   "metadata": {},
   "outputs": [],
   "source": [
    "# Función de mostrar la asistencia ademas de limpieza de datos NULL\n",
    "def mostrar_asistencia(csv_asistencia, csv_nulos, csv_filtrado):\n",
    "\n",
    "    df = spark.read.csv(csv_asistencia, header=True, inferSchema=False) # Leer el archivo CSV\n",
    "     \n",
    "    df_nulos = df.filter(\" OR \".join([f\"{col} IS NULL\" for col in df.columns])) # Filtrar los valores NULL\n",
    "    df_nulos = df_nulos.orderBy(\"timestamp\", \"asignatura\", \"estado_asistencia\") # Ordenacion de los valores por timestamp, asignatura, estado_asistencia\n",
    "    df_nulos.write.csv(csv_nulos, header=True, mode=\"overwrite\") # Guardar las filas con valores NULL en un archivo CSV aparte\n",
    "\n",
    "    df_filtrado = df.dropna() # Eliminar los valores nulos y guardarlos en un nuevo dataframe\n",
    "    df_filtrado = df_filtrado.orderBy(\"timestamp\", \"asignatura\", \"estado_asistencia\") # Ordenacion de los valores por timestamp, asignatura, estado_asistencia\n",
    "    df_filtrado.write.csv(csv_filtrado, header=True, mode=\"overwrite\") # Guardar el dataframe filtrado en un CSV aparte\n",
    "    \n",
    "    df_filtrado.show() # Mostrar la estructura del DataFrame\n",
    "    return df_filtrado # Retornar el DataFrame"
   ]
  },
  {
   "cell_type": "markdown",
   "id": "53995fcf-3d0d-4a86-85bc-2c050da2689a",
   "metadata": {},
   "source": [
    "## BLOQUE DE PRUEBAS"
   ]
  },
  {
   "cell_type": "markdown",
   "id": "c1941426-d048-41e5-9559-8ba253ea2b77",
   "metadata": {},
   "source": [
    "VAMOS A PONER A PRUEBA LA QUE SUCEDE:\n",
    "\n",
    "1) SI UTILIZAMOS UNA RUTA INEXISTENTE / ERRÓNEA\n",
    "2) QUÉ OCURRE SI EL CSV ESTA VACÍO \n",
    "3) Y VER SI EL FILTRADO DE NULOS SE EJECUTA DE FORMA CORRECTA"
   ]
  },
  {
   "cell_type": "markdown",
   "id": "eba1533f-227b-4f5e-9437-d02010d2334c",
   "metadata": {},
   "source": [
    "## RUTA ERRÓNEA / INEXSISTENTE"
   ]
  },
  {
   "cell_type": "code",
   "execution_count": null,
   "id": "f6dbef7b-3221-47c1-b030-64b8d7a7ae2b",
   "metadata": {},
   "outputs": [],
   "source": [
    "registro_asistencia = mostrar_asistencia(\n",
    "    \"csv/d.csv\", \n",
    "    \"csv/n.csv\", \n",
    "    \"csv/f.csv\"\n",
    ")"
   ]
  },
  {
   "cell_type": "markdown",
   "id": "dfd7f61a-f88b-4889-8579-edae3599b460",
   "metadata": {},
   "source": [
    "Lanza un error enorme si la ruta está mal. Probemos a introducir un try catch para manejar el error en caso de suceder. Propuesta: hacer una función llamada leer_csv, donde pasemos por parámetro la ruta del csv y que en caso de haber error manejarlo con un mensaje para el usuario"
   ]
  },
  {
   "cell_type": "markdown",
   "id": "e24dd559-999a-48b9-bd8f-c82407c0e85b",
   "metadata": {},
   "source": [
    "## CSV VACÍO"
   ]
  },
  {
   "cell_type": "code",
   "execution_count": 31,
   "id": "5b278c8e-4dee-4696-9fce-5400219d1009",
   "metadata": {},
   "outputs": [],
   "source": [
    "ruta_vacio = \"./asistencia_vacio.csv\""
   ]
  },
  {
   "cell_type": "code",
   "execution_count": null,
   "id": "9562c029-73b5-4950-967d-0a2dd11dfeae",
   "metadata": {},
   "outputs": [],
   "source": [
    "prueba_nulo = mostrar_asistencia(\n",
    "    \"./asistencia_vacio.csv\", \n",
    "    \"./Test-Dataframe_limpieza/CSV/Nulos/\", \n",
    "    \"./Test-Dataframe_limpieza/CSV/Filtrados/\"\n",
    ")"
   ]
  },
  {
   "cell_type": "markdown",
   "id": "e0eead1c-cec2-4510-8c63-c1c870594b6c",
   "metadata": {},
   "source": [
    "Lanza error. Habría que prevenir esto ya que es posible que esto ocurra"
   ]
  },
  {
   "cell_type": "markdown",
   "id": "66eafdf7-1b3f-495a-a48d-9bcadc168cad",
   "metadata": {},
   "source": [
    "## MANEJO DE DATOS NULOS"
   ]
  },
  {
   "cell_type": "markdown",
   "id": "6a1c092a-cb1d-4d7a-9b5e-f4f98a5dc8e9",
   "metadata": {},
   "source": [
    "EL MANEJO DE DATOS NULOS SE COMPRUEBA EN LOS DOS CSVS QUE SE CREAN Y LO HACE DE MANERA CORRECTA. AÚN ASÍ SE PROPONE ELABORAR UNA ÚNICA FUNCIÓN PARA ESTO PARA UNA MAYOR EFICIENCIA"
   ]
  }
 ],
 "metadata": {
  "kernelspec": {
   "display_name": "Python 3 (ipykernel)",
   "language": "python",
   "name": "python3"
  },
  "language_info": {
   "codemirror_mode": {
    "name": "ipython",
    "version": 3
   },
   "file_extension": ".py",
   "mimetype": "text/x-python",
   "name": "python",
   "nbconvert_exporter": "python",
   "pygments_lexer": "ipython3",
   "version": "3.10.13"
  }
 },
 "nbformat": 4,
 "nbformat_minor": 5
}
